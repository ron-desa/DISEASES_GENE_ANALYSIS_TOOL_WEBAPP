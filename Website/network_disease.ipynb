{
 "cells": [
  {
   "cell_type": "code",
   "execution_count": 1,
   "metadata": {},
   "outputs": [],
   "source": [
    "import pandas as pd\n",
    "import networkx as nx\n",
    "import matplotlib.pyplot as plt\n",
    "\n",
    "# Path to the TSV file\n",
    "tsv_file_path = \"/home/rounak/Desktop/arcived_human_disease_textmining_full.tsv\"\n",
    "\n",
    "# Define column headers\n",
    "column_headers = ['gene identifier', 'gene name', 'disease identifier', 'disease name', 'z-score', 'confidence score', 'URL']\n",
    "\n",
    "# Read the TSV file into a pandas DataFrame with column headers\n",
    "df = pd.read_csv(tsv_file_path, sep='\\t', names=column_headers)\n",
    "\n",
    "# Take user input for Disease Ontology ID (DOID)\n",
    "user_input_doid = input(\"Enter Disease Ontology ID (DOID): \")\n",
    "\n",
    "# Filter the DataFrame based on user input DOID\n",
    "filtered_df = df[df['disease identifier'] == user_input_doid]\n",
    "\n",
    "# Construct a network graph\n",
    "G = nx.Graph()\n",
    "\n",
    "# Add genes and diseases as nodes to the network graph\n",
    "for index, row in filtered_df.iterrows():\n",
    "    G.add_node(row['gene identifier'], node_type='gene')\n",
    "    G.add_node(row['disease identifier'], node_type='disease')\n",
    "\n",
    "# Add associations (edges) between genes and diseases\n",
    "for index, row in filtered_df.iterrows():\n",
    "    G.add_edge(row['gene identifier'], row['disease identifier'])\n",
    "\n",
    "# Draw the network graph\n",
    "pos = nx.spring_layout(G, k=0.5, iterations=50)\n",
    "nx.draw(G, pos, with_labels=True, node_size=500, node_color='skyblue', font_size=10, font_weight='bold')\n",
    "\n",
    "# Add labels for node types\n",
    "labels = {node: node_type for node, node_type in nx.get_node_attributes(G, 'node_type').items()}\n",
    "nx.draw_networkx_labels(G, pos, labels=labels)\n",
    "\n",
    "# Show the network graph\n",
    "plt.title('Gene-Disease Associations Network')\n",
    "plt.show()"
   ]
  }
 ],
 "metadata": {
  "kernelspec": {
   "display_name": "Python 3",
   "language": "python",
   "name": "python3"
  },
  "language_info": {
   "codemirror_mode": {
    "name": "ipython",
    "version": 3
   },
   "file_extension": ".py",
   "mimetype": "text/x-python",
   "name": "python",
   "nbconvert_exporter": "python",
   "pygments_lexer": "ipython3",
   "version": "3.8.11"
  }
 },
 "nbformat": 4,
 "nbformat_minor": 5
}

