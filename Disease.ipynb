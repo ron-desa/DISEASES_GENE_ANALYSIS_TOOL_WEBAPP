{
 "cells": [
  {
   "cell_type": "code",
   "execution_count": 3,
   "metadata": {},
   "outputs": [],
   "source": [
    "# Path to the TSV file\n",
    "import pandas as pd\n",
    "\n",
    "tsv_file_path = \"/home/rounak/Desktop/arcived_human_disease_textmining_full.tsv\"\n",
    "\n",
    "# Path for the output XLS file\n",
    "# xls_file_path = \"F:\\human_disease_textmining_filtered.xls\"\n",
    "\n",
    "# Read the TSV file into a pandas DataFrame\n",
    "df = pd.read_csv(tsv_file_path, sep='\\t')\n",
    "# print(df.head(10))"
   ]
  },
  {
   "cell_type": "code",
   "execution_count": null,
   "metadata": {},
   "outputs": [],
   "source": [
    "print(df.head(10))"
   ]
  },
  {
   "cell_type": "code",
   "execution_count": null,
   "metadata": {},
   "outputs": [],
   "source": [
    "# Write the DataFrame to an XLS file\n",
    "# df.to_excel(xls_file_path, index=False)\n",
    "\n",
    "filtered_df = df[df['DOID:9643'] == 'DOID:10652']\n",
    "print(filtered_df.head(10))\n",
    "\n",
    "\n",
    "# Define a list of desired values\n",
    "# desired_values = ['DOID:10652','DOID:0080348','DOID:0110035', 'DOID:0110042','DOID:0110040','DOID:0110037','DOID:0110038','DOID:0110039','DOID:0110041','DOID:0111364','DOID:0110043','DOID:0110044','DOID:0110045','DOID:0110046','DOID:0110047','DOID:0110048','DOID:0110036','DOID:0110049','DOID:0110050','DOID:0110051']\n",
    "\n",
    "# Filter the DataFrame based on multiple values in a specific column\n",
    "# filtered_df = df[df['DOID:9643'].isin(desired_values)]\n",
    "\n",
    "# print(filtered_df.head(10))"
   ]
  },
  {
   "cell_type": "code",
   "execution_count": null,
   "metadata": {},
   "outputs": [],
   "source": [
    "# Count the number of lines in the filtered DataFrame\n",
    "# num_lines = filtered_df.shape[0]\n",
    "\n",
    "# print(\"Number of lines in the filtered DataFrame:\", num_lines)\n",
    "print(\"complete data set\",df.shape[0])\n",
    "print(\"10652 data set\",filtered_df.shape[0])\n",
    "\n",
    "filtered_df.to_csv('filtered_data_from_archive_raw.csv', index=False)\n",
    "\n",
    "# df.to_csv('filterd_raw.csv', index=False)\n",
    "\n",
    "\n",
    "print(\"Filtered data has been exported to 'filtered_data.csv'.\")\n",
    "'''\n",
    "# print(f\"TSV file '{tsv_file_path}' successfully converted to XLS file '{xls_file_path}'.\")\n",
    "'''\n",
    "\n",
    "'''\n",
    "import os\n",
    "\n",
    "# Get the current working directory\n",
    "current_directory = os.getcwd()\n",
    "\n",
    "# Specify the file name\n",
    "file_name = 'filtered_data.csv'\n",
    "\n",
    "# Concatenate the current directory and file name to get the file location\n",
    "file_location = os.path.join(current_directory, file_name)\n",
    "\n",
    "print(\"File location of the new CSV file:\", file_location)\n",
    "'''\n"
   ]
  },
  {
   "cell_type": "code",
   "execution_count": 2,
   "metadata": {},
   "outputs": [
    {
     "name": "stdout",
     "output_type": "stream",
     "text": [
      "WORLD\n"
     ]
    }
   ],
   "source": [
    "print(\"WORLD\")\n"
   ]
  }
 ],
 "metadata": {
  "kernelspec": {
   "display_name": "Python 3",
   "language": "python",
   "name": "python3"
  },
  "language_info": {
   "codemirror_mode": {
    "name": "ipython",
    "version": 3
   },
   "file_extension": ".py",
   "mimetype": "text/x-python",
   "name": "python",
   "nbconvert_exporter": "python",
   "pygments_lexer": "ipython3",
   "version": "3.11.5"
  }
 },
 "nbformat": 4,
 "nbformat_minor": 2
}
